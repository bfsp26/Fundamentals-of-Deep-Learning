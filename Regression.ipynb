{
 "cells": [
  {
   "cell_type": "markdown",
   "id": "danish-dispatch",
   "metadata": {},
   "source": [
    "# **Regression with neural networks**"
   ]
  },
  {
   "cell_type": "markdown",
   "id": "composed-thickness",
   "metadata": {},
   "source": [
    "In this example, we use a dataset documenting housing prices in the Pacific Heighs section of San Francisco and train a neural network to predict what a dwelling will sell for given the number of rooms, the square, and other factors."
   ]
  },
  {
   "cell_type": "code",
   "execution_count": 4,
   "id": "competitive-buddy",
   "metadata": {},
   "outputs": [],
   "source": [
    "import pandas as pd\n",
    "import seaborn as sns\n",
    "\n",
    "sns.set()\n",
    "%matplotlib inline"
   ]
  },
  {
   "cell_type": "markdown",
   "id": "european-police",
   "metadata": {},
   "source": [
    "Load dataset and examine its content and structure"
   ]
  },
  {
   "cell_type": "code",
   "execution_count": 5,
   "id": "weighted-retention",
   "metadata": {},
   "outputs": [
    {
     "data": {
      "text/html": [
       "<div>\n",
       "<style scoped>\n",
       "    .dataframe tbody tr th:only-of-type {\n",
       "        vertical-align: middle;\n",
       "    }\n",
       "\n",
       "    .dataframe tbody tr th {\n",
       "        vertical-align: top;\n",
       "    }\n",
       "\n",
       "    .dataframe thead th {\n",
       "        text-align: right;\n",
       "    }\n",
       "</style>\n",
       "<table border=\"1\" class=\"dataframe\">\n",
       "  <thead>\n",
       "    <tr style=\"text-align: right;\">\n",
       "      <th></th>\n",
       "      <th>address</th>\n",
       "      <th>bathrooms</th>\n",
       "      <th>bedrooms</th>\n",
       "      <th>finishedsqft</th>\n",
       "      <th>lastsolddate</th>\n",
       "      <th>lastsoldprice</th>\n",
       "      <th>latitude</th>\n",
       "      <th>longitude</th>\n",
       "      <th>neighborhood</th>\n",
       "      <th>totalrooms</th>\n",
       "      <th>usecode</th>\n",
       "      <th>yearbuilt</th>\n",
       "      <th>zipcode</th>\n",
       "    </tr>\n",
       "  </thead>\n",
       "  <tbody>\n",
       "    <tr>\n",
       "      <th>0</th>\n",
       "      <td>2243 Franklin St</td>\n",
       "      <td>2.0</td>\n",
       "      <td>2</td>\n",
       "      <td>1463</td>\n",
       "      <td>2/5/2016</td>\n",
       "      <td>1950000</td>\n",
       "      <td>37.795139</td>\n",
       "      <td>-122.425309</td>\n",
       "      <td>Pacific Heights</td>\n",
       "      <td>7</td>\n",
       "      <td>Condominium</td>\n",
       "      <td>1900</td>\n",
       "      <td>94109</td>\n",
       "    </tr>\n",
       "    <tr>\n",
       "      <th>1</th>\n",
       "      <td>2002 Pacific Ave APT 4</td>\n",
       "      <td>3.5</td>\n",
       "      <td>3</td>\n",
       "      <td>3291</td>\n",
       "      <td>1/22/2016</td>\n",
       "      <td>4200000</td>\n",
       "      <td>37.794429</td>\n",
       "      <td>-122.428513</td>\n",
       "      <td>Pacific Heights</td>\n",
       "      <td>7</td>\n",
       "      <td>Condominium</td>\n",
       "      <td>1961</td>\n",
       "      <td>94109</td>\n",
       "    </tr>\n",
       "    <tr>\n",
       "      <th>2</th>\n",
       "      <td>1945 Washington St APT 411</td>\n",
       "      <td>1.0</td>\n",
       "      <td>1</td>\n",
       "      <td>653</td>\n",
       "      <td>12/16/2015</td>\n",
       "      <td>665000</td>\n",
       "      <td>37.792472</td>\n",
       "      <td>-122.425281</td>\n",
       "      <td>Pacific Heights</td>\n",
       "      <td>3</td>\n",
       "      <td>Condominium</td>\n",
       "      <td>1987</td>\n",
       "      <td>94109</td>\n",
       "    </tr>\n",
       "    <tr>\n",
       "      <th>3</th>\n",
       "      <td>1896 Pacific Ave APT 802</td>\n",
       "      <td>2.5</td>\n",
       "      <td>2</td>\n",
       "      <td>2272</td>\n",
       "      <td>12/17/2014</td>\n",
       "      <td>2735000</td>\n",
       "      <td>37.794706</td>\n",
       "      <td>-122.426347</td>\n",
       "      <td>Pacific Heights</td>\n",
       "      <td>6</td>\n",
       "      <td>Condominium</td>\n",
       "      <td>1924</td>\n",
       "      <td>94109</td>\n",
       "    </tr>\n",
       "    <tr>\n",
       "      <th>4</th>\n",
       "      <td>1840 Washington St APT 603</td>\n",
       "      <td>1.0</td>\n",
       "      <td>1</td>\n",
       "      <td>837</td>\n",
       "      <td>12/2/2015</td>\n",
       "      <td>1050000</td>\n",
       "      <td>37.793212</td>\n",
       "      <td>-122.423744</td>\n",
       "      <td>Pacific Heights</td>\n",
       "      <td>3</td>\n",
       "      <td>Condominium</td>\n",
       "      <td>2012</td>\n",
       "      <td>94109</td>\n",
       "    </tr>\n",
       "  </tbody>\n",
       "</table>\n",
       "</div>"
      ],
      "text/plain": [
       "                      address  bathrooms  bedrooms  finishedsqft lastsolddate  \\\n",
       "0            2243 Franklin St        2.0         2          1463     2/5/2016   \n",
       "1      2002 Pacific Ave APT 4        3.5         3          3291    1/22/2016   \n",
       "2  1945 Washington St APT 411        1.0         1           653   12/16/2015   \n",
       "3    1896 Pacific Ave APT 802        2.5         2          2272   12/17/2014   \n",
       "4  1840 Washington St APT 603        1.0         1           837    12/2/2015   \n",
       "\n",
       "   lastsoldprice   latitude   longitude     neighborhood  totalrooms  \\\n",
       "0        1950000  37.795139 -122.425309  Pacific Heights           7   \n",
       "1        4200000  37.794429 -122.428513  Pacific Heights           7   \n",
       "2         665000  37.792472 -122.425281  Pacific Heights           3   \n",
       "3        2735000  37.794706 -122.426347  Pacific Heights           6   \n",
       "4        1050000  37.793212 -122.423744  Pacific Heights           3   \n",
       "\n",
       "       usecode  yearbuilt  zipcode  \n",
       "0  Condominium       1900    94109  \n",
       "1  Condominium       1961    94109  \n",
       "2  Condominium       1987    94109  \n",
       "3  Condominium       1924    94109  \n",
       "4  Condominium       2012    94109  "
      ]
     },
     "execution_count": 5,
     "metadata": {},
     "output_type": "execute_result"
    }
   ],
   "source": [
    "url = 'https://raw.githubusercontent.com/jeffprosise/ML.NET/master/MLN-MultipleRegression/MLN-MultipleRegression/Data/pacific-heights.csv'\n",
    "df = pd.read_csv(url)\n",
    "df.head()"
   ]
  },
  {
   "cell_type": "markdown",
   "id": "attended-showcase",
   "metadata": {},
   "source": [
    "How many rows and columns does the dataset contain?"
   ]
  },
  {
   "cell_type": "code",
   "execution_count": 6,
   "id": "chicken-butterfly",
   "metadata": {},
   "outputs": [
    {
     "data": {
      "text/plain": [
       "(439, 13)"
      ]
     },
     "execution_count": 6,
     "metadata": {},
     "output_type": "execute_result"
    }
   ],
   "source": [
    "df.shape"
   ]
  },
  {
   "cell_type": "markdown",
   "id": "fuzzy-algebra",
   "metadata": {},
   "source": [
    "Make sure there are no missing values."
   ]
  },
  {
   "cell_type": "code",
   "execution_count": 7,
   "id": "mexican-fitness",
   "metadata": {},
   "outputs": [
    {
     "name": "stdout",
     "output_type": "stream",
     "text": [
      "<class 'pandas.core.frame.DataFrame'>\n",
      "RangeIndex: 439 entries, 0 to 438\n",
      "Data columns (total 13 columns):\n",
      " #   Column         Non-Null Count  Dtype  \n",
      "---  ------         --------------  -----  \n",
      " 0   address        439 non-null    object \n",
      " 1   bathrooms      439 non-null    float64\n",
      " 2   bedrooms       439 non-null    int64  \n",
      " 3   finishedsqft   439 non-null    int64  \n",
      " 4   lastsolddate   439 non-null    object \n",
      " 5   lastsoldprice  439 non-null    int64  \n",
      " 6   latitude       439 non-null    float64\n",
      " 7   longitude      439 non-null    float64\n",
      " 8   neighborhood   439 non-null    object \n",
      " 9   totalrooms     439 non-null    int64  \n",
      " 10  usecode        439 non-null    object \n",
      " 11  yearbuilt      439 non-null    int64  \n",
      " 12  zipcode        439 non-null    int64  \n",
      "dtypes: float64(3), int64(6), object(4)\n",
      "memory usage: 44.7+ KB\n"
     ]
    }
   ],
   "source": [
    "df.info()"
   ]
  },
  {
   "cell_type": "markdown",
   "id": "reliable-transport",
   "metadata": {},
   "source": [
    "Call `corr()` on the DataFrame that have a correlation less than 0.2 as well as the latitude and longitude columns, which are roughly incorporated in the zip code. Also one-hot-encode the values in the 'usercode' and 'zipcode' columns so they can be included in the correlation (and in the model). It is easy to imagine that the dwelling's type and location could have an impact on the selling price."
   ]
  },
  {
   "cell_type": "code",
   "execution_count": 8,
   "id": "manual-breast",
   "metadata": {},
   "outputs": [
    {
     "data": {
      "text/html": [
       "<div>\n",
       "<style scoped>\n",
       "    .dataframe tbody tr th:only-of-type {\n",
       "        vertical-align: middle;\n",
       "    }\n",
       "\n",
       "    .dataframe tbody tr th {\n",
       "        vertical-align: top;\n",
       "    }\n",
       "\n",
       "    .dataframe thead th {\n",
       "        text-align: right;\n",
       "    }\n",
       "</style>\n",
       "<table border=\"1\" class=\"dataframe\">\n",
       "  <thead>\n",
       "    <tr style=\"text-align: right;\">\n",
       "      <th></th>\n",
       "      <th>bathrooms</th>\n",
       "      <th>bedrooms</th>\n",
       "      <th>finishedsqft</th>\n",
       "      <th>totalrooms</th>\n",
       "      <th>lastsoldprice</th>\n",
       "      <th>usecode_Condominium</th>\n",
       "      <th>usecode_Cooperative</th>\n",
       "      <th>usecode_Duplex</th>\n",
       "      <th>usecode_MultiFamily2To4</th>\n",
       "      <th>usecode_SingleFamily</th>\n",
       "      <th>usecode_Townhouse</th>\n",
       "      <th>zipcode_94109</th>\n",
       "      <th>zipcode_94115</th>\n",
       "      <th>zipcode_94123</th>\n",
       "    </tr>\n",
       "  </thead>\n",
       "  <tbody>\n",
       "    <tr>\n",
       "      <th>0</th>\n",
       "      <td>2.0</td>\n",
       "      <td>2</td>\n",
       "      <td>1463</td>\n",
       "      <td>7</td>\n",
       "      <td>1950000</td>\n",
       "      <td>1</td>\n",
       "      <td>0</td>\n",
       "      <td>0</td>\n",
       "      <td>0</td>\n",
       "      <td>0</td>\n",
       "      <td>0</td>\n",
       "      <td>1</td>\n",
       "      <td>0</td>\n",
       "      <td>0</td>\n",
       "    </tr>\n",
       "    <tr>\n",
       "      <th>1</th>\n",
       "      <td>3.5</td>\n",
       "      <td>3</td>\n",
       "      <td>3291</td>\n",
       "      <td>7</td>\n",
       "      <td>4200000</td>\n",
       "      <td>1</td>\n",
       "      <td>0</td>\n",
       "      <td>0</td>\n",
       "      <td>0</td>\n",
       "      <td>0</td>\n",
       "      <td>0</td>\n",
       "      <td>1</td>\n",
       "      <td>0</td>\n",
       "      <td>0</td>\n",
       "    </tr>\n",
       "    <tr>\n",
       "      <th>2</th>\n",
       "      <td>1.0</td>\n",
       "      <td>1</td>\n",
       "      <td>653</td>\n",
       "      <td>3</td>\n",
       "      <td>665000</td>\n",
       "      <td>1</td>\n",
       "      <td>0</td>\n",
       "      <td>0</td>\n",
       "      <td>0</td>\n",
       "      <td>0</td>\n",
       "      <td>0</td>\n",
       "      <td>1</td>\n",
       "      <td>0</td>\n",
       "      <td>0</td>\n",
       "    </tr>\n",
       "    <tr>\n",
       "      <th>3</th>\n",
       "      <td>2.5</td>\n",
       "      <td>2</td>\n",
       "      <td>2272</td>\n",
       "      <td>6</td>\n",
       "      <td>2735000</td>\n",
       "      <td>1</td>\n",
       "      <td>0</td>\n",
       "      <td>0</td>\n",
       "      <td>0</td>\n",
       "      <td>0</td>\n",
       "      <td>0</td>\n",
       "      <td>1</td>\n",
       "      <td>0</td>\n",
       "      <td>0</td>\n",
       "    </tr>\n",
       "    <tr>\n",
       "      <th>4</th>\n",
       "      <td>1.0</td>\n",
       "      <td>1</td>\n",
       "      <td>837</td>\n",
       "      <td>3</td>\n",
       "      <td>1050000</td>\n",
       "      <td>1</td>\n",
       "      <td>0</td>\n",
       "      <td>0</td>\n",
       "      <td>0</td>\n",
       "      <td>0</td>\n",
       "      <td>0</td>\n",
       "      <td>1</td>\n",
       "      <td>0</td>\n",
       "      <td>0</td>\n",
       "    </tr>\n",
       "  </tbody>\n",
       "</table>\n",
       "</div>"
      ],
      "text/plain": [
       "   bathrooms  bedrooms  finishedsqft  totalrooms  lastsoldprice  \\\n",
       "0        2.0         2          1463           7        1950000   \n",
       "1        3.5         3          3291           7        4200000   \n",
       "2        1.0         1           653           3         665000   \n",
       "3        2.5         2          2272           6        2735000   \n",
       "4        1.0         1           837           3        1050000   \n",
       "\n",
       "   usecode_Condominium  usecode_Cooperative  usecode_Duplex  \\\n",
       "0                    1                    0               0   \n",
       "1                    1                    0               0   \n",
       "2                    1                    0               0   \n",
       "3                    1                    0               0   \n",
       "4                    1                    0               0   \n",
       "\n",
       "   usecode_MultiFamily2To4  usecode_SingleFamily  usecode_Townhouse  \\\n",
       "0                        0                     0                  0   \n",
       "1                        0                     0                  0   \n",
       "2                        0                     0                  0   \n",
       "3                        0                     0                  0   \n",
       "4                        0                     0                  0   \n",
       "\n",
       "   zipcode_94109  zipcode_94115  zipcode_94123  \n",
       "0              1              0              0  \n",
       "1              1              0              0  \n",
       "2              1              0              0  \n",
       "3              1              0              0  \n",
       "4              1              0              0  "
      ]
     },
     "execution_count": 8,
     "metadata": {},
     "output_type": "execute_result"
    }
   ],
   "source": [
    "df = df[['bathrooms', 'bedrooms', 'finishedsqft', 'totalrooms', 'usecode', 'zipcode', 'lastsoldprice']]\n",
    "df = pd.get_dummies(df, columns=['usecode', 'zipcode'])\n",
    "df.head()"
   ]
  },
  {
   "cell_type": "markdown",
   "id": "knowing-reconstruction",
   "metadata": {},
   "source": [
    "Now run the correlation again."
   ]
  },
  {
   "cell_type": "code",
   "execution_count": 9,
   "id": "ordinary-roller",
   "metadata": {},
   "outputs": [
    {
     "data": {
      "text/plain": [
       "lastsoldprice              1.000000\n",
       "finishedsqft               0.840864\n",
       "bathrooms                  0.768179\n",
       "totalrooms                 0.670726\n",
       "usecode_SingleFamily       0.638482\n",
       "bedrooms                   0.606579\n",
       "zipcode_94123              0.228418\n",
       "zipcode_94115              0.071123\n",
       "usecode_Duplex             0.006292\n",
       "usecode_MultiFamily2To4   -0.019009\n",
       "usecode_Townhouse         -0.025467\n",
       "usecode_Cooperative       -0.025556\n",
       "zipcode_94109             -0.243927\n",
       "usecode_Condominium       -0.598575\n",
       "Name: lastsoldprice, dtype: float64"
      ]
     },
     "execution_count": 9,
     "metadata": {},
     "output_type": "execute_result"
    }
   ],
   "source": [
    "corr_matrix = df.corr()\n",
    "corr_matrix['lastsoldprice'].sort_values(ascending=False)"
   ]
  },
  {
   "cell_type": "markdown",
   "id": "wireless-retrieval",
   "metadata": {},
   "source": [
    "Remove the use-code columns that have little bearing on the output."
   ]
  },
  {
   "cell_type": "code",
   "execution_count": 10,
   "id": "baking-paradise",
   "metadata": {},
   "outputs": [
    {
     "data": {
      "text/html": [
       "<div>\n",
       "<style scoped>\n",
       "    .dataframe tbody tr th:only-of-type {\n",
       "        vertical-align: middle;\n",
       "    }\n",
       "\n",
       "    .dataframe tbody tr th {\n",
       "        vertical-align: top;\n",
       "    }\n",
       "\n",
       "    .dataframe thead th {\n",
       "        text-align: right;\n",
       "    }\n",
       "</style>\n",
       "<table border=\"1\" class=\"dataframe\">\n",
       "  <thead>\n",
       "    <tr style=\"text-align: right;\">\n",
       "      <th></th>\n",
       "      <th>bathrooms</th>\n",
       "      <th>bedrooms</th>\n",
       "      <th>finishedsqft</th>\n",
       "      <th>totalrooms</th>\n",
       "      <th>lastsoldprice</th>\n",
       "      <th>usecode_Condominium</th>\n",
       "      <th>usecode_SingleFamily</th>\n",
       "      <th>zipcode_94109</th>\n",
       "      <th>zipcode_94115</th>\n",
       "      <th>zipcode_94123</th>\n",
       "    </tr>\n",
       "  </thead>\n",
       "  <tbody>\n",
       "    <tr>\n",
       "      <th>0</th>\n",
       "      <td>2.0</td>\n",
       "      <td>2</td>\n",
       "      <td>1463</td>\n",
       "      <td>7</td>\n",
       "      <td>1950000</td>\n",
       "      <td>1</td>\n",
       "      <td>0</td>\n",
       "      <td>1</td>\n",
       "      <td>0</td>\n",
       "      <td>0</td>\n",
       "    </tr>\n",
       "    <tr>\n",
       "      <th>1</th>\n",
       "      <td>3.5</td>\n",
       "      <td>3</td>\n",
       "      <td>3291</td>\n",
       "      <td>7</td>\n",
       "      <td>4200000</td>\n",
       "      <td>1</td>\n",
       "      <td>0</td>\n",
       "      <td>1</td>\n",
       "      <td>0</td>\n",
       "      <td>0</td>\n",
       "    </tr>\n",
       "    <tr>\n",
       "      <th>2</th>\n",
       "      <td>1.0</td>\n",
       "      <td>1</td>\n",
       "      <td>653</td>\n",
       "      <td>3</td>\n",
       "      <td>665000</td>\n",
       "      <td>1</td>\n",
       "      <td>0</td>\n",
       "      <td>1</td>\n",
       "      <td>0</td>\n",
       "      <td>0</td>\n",
       "    </tr>\n",
       "    <tr>\n",
       "      <th>3</th>\n",
       "      <td>2.5</td>\n",
       "      <td>2</td>\n",
       "      <td>2272</td>\n",
       "      <td>6</td>\n",
       "      <td>2735000</td>\n",
       "      <td>1</td>\n",
       "      <td>0</td>\n",
       "      <td>1</td>\n",
       "      <td>0</td>\n",
       "      <td>0</td>\n",
       "    </tr>\n",
       "    <tr>\n",
       "      <th>4</th>\n",
       "      <td>1.0</td>\n",
       "      <td>1</td>\n",
       "      <td>837</td>\n",
       "      <td>3</td>\n",
       "      <td>1050000</td>\n",
       "      <td>1</td>\n",
       "      <td>0</td>\n",
       "      <td>1</td>\n",
       "      <td>0</td>\n",
       "      <td>0</td>\n",
       "    </tr>\n",
       "  </tbody>\n",
       "</table>\n",
       "</div>"
      ],
      "text/plain": [
       "   bathrooms  bedrooms  finishedsqft  totalrooms  lastsoldprice  \\\n",
       "0        2.0         2          1463           7        1950000   \n",
       "1        3.5         3          3291           7        4200000   \n",
       "2        1.0         1           653           3         665000   \n",
       "3        2.5         2          2272           6        2735000   \n",
       "4        1.0         1           837           3        1050000   \n",
       "\n",
       "   usecode_Condominium  usecode_SingleFamily  zipcode_94109  zipcode_94115  \\\n",
       "0                    1                     0              1              0   \n",
       "1                    1                     0              1              0   \n",
       "2                    1                     0              1              0   \n",
       "3                    1                     0              1              0   \n",
       "4                    1                     0              1              0   \n",
       "\n",
       "   zipcode_94123  \n",
       "0              0  \n",
       "1              0  \n",
       "2              0  \n",
       "3              0  \n",
       "4              0  "
      ]
     },
     "execution_count": 10,
     "metadata": {},
     "output_type": "execute_result"
    }
   ],
   "source": [
    "df = df.drop(['usecode_Duplex', 'usecode_MultiFamily2To4', 'usecode_Townhouse', 'usecode_Cooperative'], axis=1)\n",
    "df.head()"
   ]
  },
  {
   "cell_type": "markdown",
   "id": "adopted-favor",
   "metadata": {},
   "source": [
    "Use Seaborn's handy pairplot function to visualize the relationships between non-categorical variables."
   ]
  },
  {
   "cell_type": "code",
   "execution_count": 12,
   "id": "aboriginal-display",
   "metadata": {},
   "outputs": [
    {
     "data": {
      "image/png": "[encoded data removed]",
      "text/plain": [
       "<Figure size 900x900 with 30 Axes>"
      ]
     },
     "metadata": {
      "needs_background": "light"
     },
     "output_type": "display_data"
    }
   ],
   "source": [
    "sns.pairplot(df[['bathrooms', 'bedrooms', 'finishedsqft', 'totalrooms', 'lastsoldprice']]);"
   ]
  },
  {
   "cell_type": "markdown",
   "id": "innovative-kingdom",
   "metadata": {},
   "source": [
    "Split the dataset fro training and testing."
   ]
  },
  {
   "cell_type": "code",
   "execution_count": 14,
   "id": "corresponding-crystal",
   "metadata": {},
   "outputs": [],
   "source": [
    "from sklearn.model_selection import train_test_split\n",
    "\n",
    "X = df.drop('lastsoldprice', axis=1)\n",
    "y = df['lastsoldprice']\n",
    "\n",
    "X_train, X_test, y_train, y_test = train_test_split(X, y, test_size=0.2, random_state=0)"
   ]
  },
  {
   "cell_type": "markdown",
   "id": "armed-factory",
   "metadata": {},
   "source": [
    "Now build a neural network containing two hidden layers and train it with the training data."
   ]
  },
  {
   "cell_type": "code",
   "execution_count": 17,
   "id": "incorrect-health",
   "metadata": {},
   "outputs": [
    {
     "name": "stdout",
     "output_type": "stream",
     "text": [
      "Model: \"sequential_2\"\n",
      "_________________________________________________________________\n",
      "Layer (type)                 Output Shape              Param #   \n",
      "=================================================================\n",
      "dense_4 (Dense)              (None, 128)               1280      \n",
      "_________________________________________________________________\n",
      "dense_5 (Dense)              (None, 128)               16512     \n",
      "_________________________________________________________________\n",
      "dense_6 (Dense)              (None, 1)                 129       \n",
      "=================================================================\n",
      "Total params: 17,921\n",
      "Trainable params: 17,921\n",
      "Non-trainable params: 0\n",
      "_________________________________________________________________\n"
     ]
    }
   ],
   "source": [
    "from keras.models import Sequential\n",
    "from keras.layers import Dense\n",
    "\n",
    "model = Sequential()\n",
    "model.add(Dense(128, input_dim=9, activation='relu'))\n",
    "model.add(Dense(128, activation='relu'))\n",
    "model.add(Dense(1))\n",
    "model.compile(loss='mae', optimizer='adam', metrics=['mae'])\n",
    "model.summary()"
   ]
  },
  {
   "cell_type": "code",
   "execution_count": 18,
   "id": "constitutional-efficiency",
   "metadata": {},
   "outputs": [
    {
     "name": "stdout",
     "output_type": "stream",
     "text": [
      "Epoch 1/100\n",
      "18/18 [==============================] - 0s 16ms/step - loss: 2499423.2500 - mae: 2499423.2500 - val_loss: 2591313.7500 - val_mae: 2591313.7500\n",
      "Epoch 2/100\n",
      "18/18 [==============================] - 0s 3ms/step - loss: 2497812.0000 - mae: 2497812.0000 - val_loss: 2589275.5000 - val_mae: 2589275.5000\n",
      "Epoch 3/100\n",
      "18/18 [==============================] - 0s 3ms/step - loss: 2495159.5000 - mae: 2495159.5000 - val_loss: 2585611.0000 - val_mae: 2585611.0000\n",
      "Epoch 4/100\n",
      "18/18 [==============================] - 0s 3ms/step - loss: 2490462.0000 - mae: 2490462.0000 - val_loss: 2579261.2500 - val_mae: 2579261.2500\n",
      "Epoch 5/100\n",
      "18/18 [==============================] - 0s 3ms/step - loss: 2482364.2500 - mae: 2482364.2500 - val_loss: 2569084.0000 - val_mae: 2569084.0000\n",
      "Epoch 6/100\n",
      "18/18 [==============================] - 0s 3ms/step - loss: 2470053.7500 - mae: 2470053.7500 - val_loss: 2553394.2500 - val_mae: 2553394.2500\n",
      "Epoch 7/100\n",
      "18/18 [==============================] - 0s 3ms/step - loss: 2451779.7500 - mae: 2451779.7500 - val_loss: 2531306.2500 - val_mae: 2531306.2500\n",
      "Epoch 8/100\n",
      "18/18 [==============================] - 0s 3ms/step - loss: 2426196.0000 - mae: 2426196.0000 - val_loss: 2501647.0000 - val_mae: 2501647.0000\n",
      "Epoch 9/100\n",
      "18/18 [==============================] - 0s 3ms/step - loss: 2392691.0000 - mae: 2392691.0000 - val_loss: 2461553.7500 - val_mae: 2461553.7500\n",
      "Epoch 10/100\n",
      "18/18 [==============================] - 0s 3ms/step - loss: 2348568.5000 - mae: 2348568.5000 - val_loss: 2411327.7500 - val_mae: 2411327.7500\n",
      "Epoch 11/100\n",
      "18/18 [==============================] - 0s 3ms/step - loss: 2292428.2500 - mae: 2292428.2500 - val_loss: 2349050.0000 - val_mae: 2349050.0000\n",
      "Epoch 12/100\n",
      "18/18 [==============================] - 0s 3ms/step - loss: 2224786.5000 - mae: 2224786.5000 - val_loss: 2271421.2500 - val_mae: 2271421.2500\n",
      "Epoch 13/100\n",
      "18/18 [==============================] - 0s 3ms/step - loss: 2142129.5000 - mae: 2142129.7500 - val_loss: 2179990.5000 - val_mae: 2179990.5000\n",
      "Epoch 14/100\n",
      "18/18 [==============================] - 0s 3ms/step - loss: 2045344.8750 - mae: 2045344.8750 - val_loss: 2072151.2500 - val_mae: 2072151.2500\n",
      "Epoch 15/100\n",
      "18/18 [==============================] - 0s 3ms/step - loss: 1931834.1250 - mae: 1931834.1250 - val_loss: 1944486.5000 - val_mae: 1944486.5000\n",
      "Epoch 16/100\n",
      "18/18 [==============================] - 0s 3ms/step - loss: 1799196.6250 - mae: 1799196.6250 - val_loss: 1800312.7500 - val_mae: 1800312.7500\n",
      "Epoch 17/100\n",
      "18/18 [==============================] - 0s 3ms/step - loss: 1649687.1250 - mae: 1649687.1250 - val_loss: 1632845.5000 - val_mae: 1632845.5000\n",
      "Epoch 18/100\n",
      "18/18 [==============================] - 0s 4ms/step - loss: 1482790.6250 - mae: 1482790.6250 - val_loss: 1448147.1250 - val_mae: 1448147.1250\n",
      "Epoch 19/100\n",
      "18/18 [==============================] - 0s 3ms/step - loss: 1302091.8750 - mae: 1302091.8750 - val_loss: 1254864.1250 - val_mae: 1254864.1250\n",
      "Epoch 20/100\n",
      "18/18 [==============================] - 0s 3ms/step - loss: 1126577.6250 - mae: 1126577.6250 - val_loss: 1075045.0000 - val_mae: 1075045.0000\n",
      "Epoch 21/100\n",
      "18/18 [==============================] - 0s 3ms/step - loss: 970869.4375 - mae: 970869.4375 - val_loss: 946548.5625 - val_mae: 946548.5625\n",
      "Epoch 22/100\n",
      "18/18 [==============================] - 0s 3ms/step - loss: 849057.9375 - mae: 849057.9375 - val_loss: 867359.7500 - val_mae: 867359.7500\n",
      "Epoch 23/100\n",
      "18/18 [==============================] - 0s 3ms/step - loss: 780870.5625 - mae: 780870.5000 - val_loss: 829940.5625 - val_mae: 829940.5625\n",
      "Epoch 24/100\n",
      "18/18 [==============================] - 0s 3ms/step - loss: 750474.8125 - mae: 750474.8125 - val_loss: 814801.0625 - val_mae: 814801.0625\n",
      "Epoch 25/100\n",
      "18/18 [==============================] - 0s 3ms/step - loss: 745115.2500 - mae: 745115.2500 - val_loss: 806264.1875 - val_mae: 806264.1875\n",
      "Epoch 26/100\n",
      "18/18 [==============================] - 0s 3ms/step - loss: 743963.0625 - mae: 743963.0625 - val_loss: 805448.5625 - val_mae: 805448.5625\n",
      "Epoch 27/100\n",
      "18/18 [==============================] - 0s 3ms/step - loss: 743887.7500 - mae: 743887.6875 - val_loss: 802764.5625 - val_mae: 802764.5625\n",
      "Epoch 28/100\n",
      "18/18 [==============================] - 0s 3ms/step - loss: 743293.2500 - mae: 743293.2500 - val_loss: 803884.1875 - val_mae: 803884.1875\n",
      "Epoch 29/100\n",
      "18/18 [==============================] - 0s 3ms/step - loss: 744004.6250 - mae: 744004.6250 - val_loss: 804570.6250 - val_mae: 804570.6250\n",
      "Epoch 30/100\n",
      "18/18 [==============================] - 0s 3ms/step - loss: 743222.8750 - mae: 743222.8750 - val_loss: 802555.7500 - val_mae: 802555.6250\n",
      "Epoch 31/100\n",
      "18/18 [==============================] - 0s 4ms/step - loss: 743448.4375 - mae: 743448.4375 - val_loss: 801855.0000 - val_mae: 801855.0000\n",
      "Epoch 32/100\n",
      "18/18 [==============================] - 0s 3ms/step - loss: 743722.3125 - mae: 743722.3125 - val_loss: 802838.6250 - val_mae: 802838.7500\n",
      "Epoch 33/100\n",
      "18/18 [==============================] - 0s 3ms/step - loss: 743544.0000 - mae: 743544.0000 - val_loss: 801741.1875 - val_mae: 801741.1875\n",
      "Epoch 34/100\n",
      "18/18 [==============================] - 0s 3ms/step - loss: 743479.8125 - mae: 743479.8125 - val_loss: 802963.3750 - val_mae: 802963.2500\n",
      "Epoch 35/100\n",
      "18/18 [==============================] - 0s 4ms/step - loss: 743496.3750 - mae: 743496.3750 - val_loss: 803971.1875 - val_mae: 803971.1875\n",
      "Epoch 36/100\n",
      "18/18 [==============================] - 0s 4ms/step - loss: 743500.5625 - mae: 743500.5625 - val_loss: 802135.4375 - val_mae: 802135.4375\n",
      "Epoch 37/100\n",
      "18/18 [==============================] - 0s 3ms/step - loss: 743279.5000 - mae: 743279.5000 - val_loss: 803931.9375 - val_mae: 803931.9375\n",
      "Epoch 38/100\n",
      "18/18 [==============================] - 0s 4ms/step - loss: 744035.4375 - mae: 744035.4375 - val_loss: 802180.7500 - val_mae: 802180.7500\n",
      "Epoch 39/100\n",
      "18/18 [==============================] - 0s 3ms/step - loss: 743110.9375 - mae: 743110.9375 - val_loss: 804294.5625 - val_mae: 804294.4375\n",
      "Epoch 40/100\n",
      "18/18 [==============================] - 0s 3ms/step - loss: 743480.5625 - mae: 743480.5625 - val_loss: 804018.0000 - val_mae: 804018.0000\n",
      "Epoch 41/100\n",
      "18/18 [==============================] - 0s 3ms/step - loss: 743547.6875 - mae: 743547.6875 - val_loss: 805281.6250 - val_mae: 805281.6250\n",
      "Epoch 42/100\n",
      "18/18 [==============================] - 0s 3ms/step - loss: 743747.3125 - mae: 743747.3125 - val_loss: 805001.6250 - val_mae: 805001.6250\n",
      "Epoch 43/100\n",
      "18/18 [==============================] - 0s 3ms/step - loss: 743237.8750 - mae: 743237.8750 - val_loss: 802418.2500 - val_mae: 802418.2500\n",
      "Epoch 44/100\n",
      "18/18 [==============================] - 0s 3ms/step - loss: 743886.0625 - mae: 743886.0625 - val_loss: 800506.8125 - val_mae: 800506.8125\n",
      "Epoch 45/100\n",
      "18/18 [==============================] - 0s 3ms/step - loss: 743449.0000 - mae: 743449.0000 - val_loss: 801857.4375 - val_mae: 801857.4375\n",
      "Epoch 46/100\n",
      "18/18 [==============================] - 0s 3ms/step - loss: 743608.6875 - mae: 743608.6875 - val_loss: 803726.1875 - val_mae: 803726.1875\n",
      "Epoch 47/100\n",
      "18/18 [==============================] - 0s 3ms/step - loss: 743418.5000 - mae: 743418.5000 - val_loss: 805219.5625 - val_mae: 805219.5625\n",
      "Epoch 48/100\n",
      "18/18 [==============================] - 0s 3ms/step - loss: 743436.7500 - mae: 743436.7500 - val_loss: 805529.5625 - val_mae: 805529.5625\n",
      "Epoch 49/100\n",
      "18/18 [==============================] - 0s 3ms/step - loss: 743879.0625 - mae: 743879.0625 - val_loss: 804272.6250 - val_mae: 804272.6250\n",
      "Epoch 50/100\n",
      "18/18 [==============================] - 0s 3ms/step - loss: 745715.8125 - mae: 745715.8125 - val_loss: 807234.1875 - val_mae: 807234.1875\n",
      "Epoch 51/100\n",
      "18/18 [==============================] - 0s 3ms/step - loss: 743358.1250 - mae: 743358.1250 - val_loss: 805053.0000 - val_mae: 805053.0000\n",
      "Epoch 52/100\n",
      "18/18 [==============================] - 0s 3ms/step - loss: 743487.7500 - mae: 743487.7500 - val_loss: 802506.1875 - val_mae: 802506.1875\n",
      "Epoch 53/100\n",
      "18/18 [==============================] - 0s 3ms/step - loss: 743383.9375 - mae: 743383.9375 - val_loss: 802855.1875 - val_mae: 802855.1875\n",
      "Epoch 54/100\n",
      "18/18 [==============================] - 0s 3ms/step - loss: 743674.1875 - mae: 743674.1875 - val_loss: 802141.5625 - val_mae: 802141.5625\n",
      "Epoch 55/100\n",
      "18/18 [==============================] - 0s 3ms/step - loss: 743743.2500 - mae: 743743.2500 - val_loss: 805779.3750 - val_mae: 805779.3750\n",
      "Epoch 56/100\n",
      "18/18 [==============================] - 0s 3ms/step - loss: 743437.0625 - mae: 743437.0625 - val_loss: 804183.0000 - val_mae: 804183.0000\n",
      "Epoch 57/100\n",
      "18/18 [==============================] - 0s 3ms/step - loss: 743113.4375 - mae: 743113.4375 - val_loss: 802532.5625 - val_mae: 802532.5625\n",
      "Epoch 58/100\n",
      "18/18 [==============================] - 0s 3ms/step - loss: 744166.6250 - mae: 744166.6250 - val_loss: 802155.6250 - val_mae: 802155.6250\n",
      "Epoch 59/100\n",
      "18/18 [==============================] - 0s 3ms/step - loss: 744094.6875 - mae: 744094.6250 - val_loss: 804616.0625 - val_mae: 804616.0625\n",
      "Epoch 60/100\n",
      "18/18 [==============================] - 0s 3ms/step - loss: 744147.1875 - mae: 744147.1875 - val_loss: 800942.1875 - val_mae: 800942.1875\n",
      "Epoch 61/100\n",
      "18/18 [==============================] - 0s 3ms/step - loss: 744072.2500 - mae: 744072.2500 - val_loss: 804039.0625 - val_mae: 804039.0625\n",
      "Epoch 62/100\n",
      "18/18 [==============================] - 0s 3ms/step - loss: 743343.9375 - mae: 743343.9375 - val_loss: 802421.2500 - val_mae: 802421.2500\n",
      "Epoch 63/100\n",
      "18/18 [==============================] - 0s 3ms/step - loss: 743086.5625 - mae: 743086.5625 - val_loss: 803247.0000 - val_mae: 803247.0000\n",
      "Epoch 64/100\n",
      "18/18 [==============================] - 0s 3ms/step - loss: 743060.8125 - mae: 743060.8750 - val_loss: 801734.5625 - val_mae: 801734.5625\n",
      "Epoch 65/100\n",
      "18/18 [==============================] - 0s 3ms/step - loss: 743232.3750 - mae: 743232.3750 - val_loss: 801740.1875 - val_mae: 801740.1875\n",
      "Epoch 66/100\n",
      "18/18 [==============================] - 0s 3ms/step - loss: 743272.8125 - mae: 743272.8125 - val_loss: 802944.1875 - val_mae: 802944.1875\n",
      "Epoch 67/100\n",
      "18/18 [==============================] - 0s 3ms/step - loss: 743501.9375 - mae: 743502.0000 - val_loss: 802809.3750 - val_mae: 802809.3750\n",
      "Epoch 68/100\n",
      "18/18 [==============================] - 0s 3ms/step - loss: 742965.1875 - mae: 742965.1875 - val_loss: 802613.2500 - val_mae: 802613.2500\n",
      "Epoch 69/100\n",
      "18/18 [==============================] - 0s 3ms/step - loss: 742985.4375 - mae: 742985.4375 - val_loss: 803669.3750 - val_mae: 803669.3750\n",
      "Epoch 70/100\n",
      "18/18 [==============================] - 0s 3ms/step - loss: 743282.5000 - mae: 743282.5000 - val_loss: 804559.8125 - val_mae: 804559.8125\n",
      "Epoch 71/100\n",
      "18/18 [==============================] - 0s 3ms/step - loss: 743415.3125 - mae: 743415.3125 - val_loss: 801632.0000 - val_mae: 801632.0000\n",
      "Epoch 72/100\n",
      "18/18 [==============================] - 0s 3ms/step - loss: 743409.9375 - mae: 743409.9375 - val_loss: 803267.2500 - val_mae: 803267.2500\n",
      "Epoch 73/100\n",
      "18/18 [==============================] - 0s 3ms/step - loss: 743556.1875 - mae: 743556.1875 - val_loss: 804456.9375 - val_mae: 804456.9375\n",
      "Epoch 74/100\n",
      "18/18 [==============================] - 0s 3ms/step - loss: 743323.5625 - mae: 743323.5625 - val_loss: 801138.8125 - val_mae: 801138.8125\n",
      "Epoch 75/100\n",
      "18/18 [==============================] - 0s 3ms/step - loss: 743177.5625 - mae: 743177.5625 - val_loss: 802634.1875 - val_mae: 802634.1875\n",
      "Epoch 76/100\n",
      "18/18 [==============================] - 0s 3ms/step - loss: 743162.4375 - mae: 743162.4375 - val_loss: 803158.2500 - val_mae: 803158.2500\n",
      "Epoch 77/100\n",
      "18/18 [==============================] - 0s 3ms/step - loss: 743390.7500 - mae: 743390.7500 - val_loss: 800990.9375 - val_mae: 800990.9375\n",
      "Epoch 78/100\n",
      "18/18 [==============================] - 0s 3ms/step - loss: 743393.9375 - mae: 743393.9375 - val_loss: 803315.0625 - val_mae: 803315.0625\n",
      "Epoch 79/100\n",
      "18/18 [==============================] - 0s 3ms/step - loss: 743228.5625 - mae: 743228.5625 - val_loss: 802883.2500 - val_mae: 802883.2500\n",
      "Epoch 80/100\n",
      "18/18 [==============================] - 0s 3ms/step - loss: 743199.4375 - mae: 743199.4375 - val_loss: 804021.2500 - val_mae: 804021.2500\n",
      "Epoch 81/100\n",
      "18/18 [==============================] - 0s 3ms/step - loss: 743087.8125 - mae: 743087.8125 - val_loss: 802867.2500 - val_mae: 802867.2500\n",
      "Epoch 82/100\n",
      "18/18 [==============================] - 0s 3ms/step - loss: 743460.1250 - mae: 743460.1250 - val_loss: 803928.9375 - val_mae: 803928.9375\n",
      "Epoch 83/100\n",
      "18/18 [==============================] - 0s 3ms/step - loss: 743030.1250 - mae: 743030.1250 - val_loss: 804237.8125 - val_mae: 804237.8125\n",
      "Epoch 84/100\n",
      "18/18 [==============================] - 0s 3ms/step - loss: 743402.5000 - mae: 743402.5000 - val_loss: 803741.1875 - val_mae: 803741.2500\n",
      "Epoch 85/100\n",
      "18/18 [==============================] - 0s 3ms/step - loss: 743238.3750 - mae: 743238.3750 - val_loss: 803605.8125 - val_mae: 803605.8125\n",
      "Epoch 86/100\n",
      "18/18 [==============================] - 0s 3ms/step - loss: 744015.7500 - mae: 744015.7500 - val_loss: 800117.4375 - val_mae: 800117.3750\n",
      "Epoch 87/100\n",
      "18/18 [==============================] - 0s 3ms/step - loss: 743294.0625 - mae: 743294.0625 - val_loss: 802466.9375 - val_mae: 802466.9375\n",
      "Epoch 88/100\n",
      "18/18 [==============================] - 0s 3ms/step - loss: 742837.8125 - mae: 742837.8125 - val_loss: 802174.7500 - val_mae: 802174.7500\n",
      "Epoch 89/100\n",
      "18/18 [==============================] - 0s 3ms/step - loss: 743353.6875 - mae: 743353.6875 - val_loss: 803716.0000 - val_mae: 803716.0000\n",
      "Epoch 90/100\n",
      "18/18 [==============================] - 0s 3ms/step - loss: 743230.0625 - mae: 743230.0625 - val_loss: 801174.0625 - val_mae: 801174.0625\n",
      "Epoch 91/100\n",
      "18/18 [==============================] - 0s 3ms/step - loss: 743455.5625 - mae: 743455.5625 - val_loss: 804084.2500 - val_mae: 804084.2500\n",
      "Epoch 92/100\n",
      "18/18 [==============================] - 0s 3ms/step - loss: 742946.6875 - mae: 742946.6875 - val_loss: 802111.8125 - val_mae: 802111.8125\n",
      "Epoch 93/100\n",
      "18/18 [==============================] - 0s 3ms/step - loss: 743111.5000 - mae: 743111.5000 - val_loss: 804049.6250 - val_mae: 804049.6250\n",
      "Epoch 94/100\n",
      "18/18 [==============================] - 0s 3ms/step - loss: 742921.1875 - mae: 742921.1875 - val_loss: 802155.0625 - val_mae: 802155.0625\n",
      "Epoch 95/100\n",
      "18/18 [==============================] - 0s 3ms/step - loss: 743084.1875 - mae: 743084.1875 - val_loss: 803198.0625 - val_mae: 803198.0625\n",
      "Epoch 96/100\n",
      "18/18 [==============================] - 0s 3ms/step - loss: 743398.4375 - mae: 743398.4375 - val_loss: 804173.5625 - val_mae: 804173.5625\n",
      "Epoch 97/100\n",
      "18/18 [==============================] - 0s 3ms/step - loss: 744123.3750 - mae: 744123.3750 - val_loss: 804059.3750 - val_mae: 804059.3750\n",
      "Epoch 98/100\n",
      "18/18 [==============================] - 0s 3ms/step - loss: 743461.1875 - mae: 743461.1875 - val_loss: 803342.1875 - val_mae: 803342.1875\n",
      "Epoch 99/100\n",
      "18/18 [==============================] - 0s 3ms/step - loss: 742844.1875 - mae: 742844.1875 - val_loss: 801627.0625 - val_mae: 801627.0625\n",
      "Epoch 100/100\n",
      "18/18 [==============================] - 0s 3ms/step - loss: 743376.3750 - mae: 743376.3750 - val_loss: 802235.8125 - val_mae: 802235.8125\n"
     ]
    }
   ],
   "source": [
    "hist = model.fit(X_train, y_train, validation_data=(X_test, y_test), epochs=100, batch_size=20)"
   ]
  },
  {
   "cell_type": "markdown",
   "id": "neutral-liver",
   "metadata": {},
   "source": [
    "Plot the training accuracy and validation accuracy over time"
   ]
  },
  {
   "cell_type": "code",
   "execution_count": 20,
   "id": "insured-stage",
   "metadata": {},
   "outputs": [
    {
     "data": {
      "text/plain": [
       "[]"
      ]
     },
     "execution_count": 20,
     "metadata": {},
     "output_type": "execute_result"
    },
    {
     "data": {
      "image/png": "[encoded data removed]",
      "text/plain": [
       "<Figure size 432x288 with 1 Axes>"
      ]
     },
     "metadata": {
      "needs_background": "light"
     },
     "output_type": "display_data"
    }
   ],
   "source": [
    "%matplotlib inline\n",
    "import matplotlib.pyplot as plt\n",
    "\n",
    "err = hist.history['mae']\n",
    "val_err = hist.history['val_mae']\n",
    "epochs = range(1, len(err) + 1)\n",
    "\n",
    "plt.plot(epochs, err, '-', label='Training MAE')\n",
    "plt.plot(epochs, val_err, ':', label='Validation MAE')\n",
    "plt.title('Training and Validation Accuracy')\n",
    "plt.xlabel('Mean Absolute Error')\n",
    "plt.legend(loc='upper right')\n",
    "plt.plot()"
   ]
  },
  {
   "cell_type": "markdown",
   "id": "comparable-ethiopia",
   "metadata": {},
   "source": [
    "Get the coefficient of determination (R2) to determine how accurate the model is."
   ]
  },
  {
   "cell_type": "code",
   "execution_count": 22,
   "id": "affecting-parks",
   "metadata": {},
   "outputs": [
    {
     "data": {
      "text/plain": [
       "0.6278747415678658"
      ]
     },
     "execution_count": 22,
     "metadata": {},
     "output_type": "execute_result"
    }
   ],
   "source": [
    "from sklearn.metrics import r2_score\n",
    "\n",
    "r2_score(y_test, model.predict(X_test))"
   ]
  },
  {
   "cell_type": "markdown",
   "id": "british-packet",
   "metadata": {},
   "source": [
    "Show other accuracy metrics."
   ]
  },
  {
   "cell_type": "code",
   "execution_count": 23,
   "id": "republican-yesterday",
   "metadata": {},
   "outputs": [
    {
     "name": "stdout",
     "output_type": "stream",
     "text": [
      "loss: 802235.8125\n",
      "mae: 802235.8125\n"
     ]
    }
   ],
   "source": [
    "scores = model.evaluate(X_test, y_test, verbose=8)\n",
    "\n",
    "for i in range(0, len(scores)):\n",
    "    print(model.metrics_names[i] + ': ' + str(scores[i]))"
   ]
  },
  {
   "cell_type": "markdown",
   "id": "virtual-victor",
   "metadata": {},
   "source": []
  },
  {
   "cell_type": "code",
   "execution_count": 24,
   "id": "incredible-railway",
   "metadata": {
    "pycharm": {
     "name": "#%%\n"
    }
   },
   "outputs": [
    {
     "data": {
      "text/plain": [
       "array([[1082104.1]], dtype=float32)"
      ]
     },
     "execution_count": 24,
     "metadata": {},
     "output_type": "execute_result"
    }
   ],
   "source": [
    "import numpy as np\n",
    "\n",
    "bathrooms = 1\n",
    "bedrooms = 1\n",
    "finished_sqft = 1040\n",
    "total_rooms = 4\n",
    "usecode_Condominium = 1\n",
    "usecode_SingleFamily = 0\n",
    "zipcode_94109 = 0\n",
    "zipcode_94115 = 1\n",
    "zipcode_94123 = 0\n",
    "\n",
    "model.predict(np.array([[bathrooms, bedrooms, finished_sqft, total_rooms, usecode_Condominium, usecode_SingleFamily, zipcode_94109, zipcode_94115, zipcode_94123]]))"
   ]
  }
 ],
 "metadata": {
  "kernelspec": {
   "display_name": "Python 3",
   "language": "python",
   "name": "python3"
  },
  "language_info": {
   "codemirror_mode": {
    "name": "ipython",
    "version": 3
   },
   "file_extension": ".py",
   "mimetype": "text/x-python",
   "name": "python",
   "nbconvert_exporter": "python",
   "pygments_lexer": "ipython3",
   "version": "3.8.8"
  }
 },
 "nbformat": 4,
 "nbformat_minor": 5
}